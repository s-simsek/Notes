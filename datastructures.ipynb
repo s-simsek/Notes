{
 "cells": [
  {
   "cell_type": "markdown",
   "id": "39aceae4-c43b-4323-a6b3-0d4a7d2894a7",
   "metadata": {},
   "source": [
    "<center><h1> Python Data Structures </h1></center\n",
    "                                             \n",
    "Largely influenced by this post [here](https://realpython.com/python-data-structures/#collectionschainmap-search-multiple-dictionaries-as-a-single-mapping)"
   ]
  },
  {
   "cell_type": "markdown",
   "id": "84045039-b255-4efe-8e70-6a9c4ed59154",
   "metadata": {
    "jp-MarkdownHeadingCollapsed": true
   },
   "source": [
    "## defaultdict"
   ]
  },
  {
   "cell_type": "code",
   "execution_count": 13,
   "id": "985378b9-d287-4ab5-aaa7-5e526f31b609",
   "metadata": {},
   "outputs": [
    {
     "data": {
      "text/plain": [
       "defaultdict(list, {5: 'hi'})"
      ]
     },
     "execution_count": 13,
     "metadata": {},
     "output_type": "execute_result"
    }
   ],
   "source": [
    "from collections import defaultdict\n",
    "\n",
    "d = defaultdict(list)\n",
    "d[5] = 'hi'\n",
    "d"
   ]
  },
  {
   "cell_type": "markdown",
   "id": "e31bdd7c-a055-4673-ba40-4f0a60ef6f08",
   "metadata": {},
   "source": [
    "it sets the default value for missing keys"
   ]
  },
  {
   "cell_type": "code",
   "execution_count": 14,
   "id": "99e04861-fc9a-4d0e-a012-7465a14cf771",
   "metadata": {},
   "outputs": [
    {
     "name": "stdout",
     "output_type": "stream",
     "text": [
      "True\n",
      "True\n"
     ]
    }
   ],
   "source": [
    "print(d[6] == [])\n",
    "d1 = defaultdict(lambda: 'missing')\n",
    "print(d1[5] == 'missing')"
   ]
  },
  {
   "cell_type": "markdown",
   "id": "daa92ce8-dc6a-4dc1-8414-41c822f3e23f",
   "metadata": {},
   "source": [
    "You can do the same with regular `dict` objest with `setdefault` method"
   ]
  },
  {
   "cell_type": "code",
   "execution_count": 16,
   "id": "7d149676-bb3f-4ec0-91d8-d873c74e1841",
   "metadata": {},
   "outputs": [
    {
     "data": {
      "text/plain": [
       "{5: [4]}"
      ]
     },
     "execution_count": 16,
     "metadata": {},
     "output_type": "execute_result"
    }
   ],
   "source": [
    "d = {}\n",
    "d.setdefault(5, []).append(4)\n",
    "d"
   ]
  },
  {
   "cell_type": "markdown",
   "id": "4055aa2e-24ba-49c7-9ffe-dc5f25b309b3",
   "metadata": {
    "jp-MarkdownHeadingCollapsed": true
   },
   "source": [
    "## ChainMap\n",
    "\n",
    "The `collections.ChainMap` data structure groups multiple dictionaries into a single mapping. Lookups search the underlying mappings one by one until a key is found. Insertions, updates, and deletions only affect the first mapping added to the chain.\n",
    "\n",
    "When managing application settings, you might have default settings, user-specific settings, and environment-specific settings. `ChainMap` allows you to overlay these settings hierarchically."
   ]
  },
  {
   "cell_type": "code",
   "execution_count": 103,
   "id": "c95d7033-dadd-4e4a-b2fb-9196762bb9d1",
   "metadata": {},
   "outputs": [
    {
     "name": "stdout",
     "output_type": "stream",
     "text": [
      "dark\n",
      "French\n",
      "300\n"
     ]
    }
   ],
   "source": [
    "from collections import ChainMap\n",
    "\n",
    "default_config = {'theme': 'light', 'language': 'English', 'timeout': 120}\n",
    "user_config = {'language': 'French', 'timeout': 300}\n",
    "env_config = {'theme': 'dark'}  # Imagine this comes from environment variables\n",
    "\n",
    "config = ChainMap(env_config, user_config, default_config)\n",
    "\n",
    "print(config['theme'])    \n",
    "print(config['language']) \n",
    "print(config['timeout'])  "
   ]
  },
  {
   "cell_type": "code",
   "execution_count": 62,
   "id": "940f7320-3f47-4ca4-b05a-454ea7df526e",
   "metadata": {},
   "outputs": [
    {
     "data": {
      "text/plain": [
       "['clear',\n",
       " 'copy',\n",
       " 'fromkeys',\n",
       " 'get',\n",
       " 'items',\n",
       " 'keys',\n",
       " 'maps',\n",
       " 'parents',\n",
       " 'pop',\n",
       " 'popitem',\n",
       " 'setdefault',\n",
       " 'update',\n",
       " 'values']"
      ]
     },
     "execution_count": 62,
     "metadata": {},
     "output_type": "execute_result"
    }
   ],
   "source": [
    "# class methods\n",
    "[i for i in dir(c) if '_' not in i]"
   ]
  },
  {
   "cell_type": "markdown",
   "id": "73c3f8d8-558f-4e14-8630-241a40a346b8",
   "metadata": {},
   "source": [
    "`maps` method maps the chained dictionaries as a python list in chained order"
   ]
  },
  {
   "cell_type": "code",
   "execution_count": 104,
   "id": "d4a0cfb2-5f15-4551-a919-29ce1b702bd8",
   "metadata": {},
   "outputs": [
    {
     "data": {
      "text/plain": [
       "[{'theme': 'dark'},\n",
       " {'language': 'French', 'timeout': 300},\n",
       " {'theme': 'light', 'language': 'English', 'timeout': 120}]"
      ]
     },
     "execution_count": 104,
     "metadata": {},
     "output_type": "execute_result"
    }
   ],
   "source": [
    "config.maps"
   ]
  },
  {
   "cell_type": "markdown",
   "id": "ef1dd5bf-fcf7-404d-ac3e-b44740335a4b",
   "metadata": {},
   "source": [
    "`parents` methods returns the chainmap of the original chain with first dictionary removed"
   ]
  },
  {
   "cell_type": "code",
   "execution_count": 105,
   "id": "d405ef9a-8dae-43db-a7aa-5b7245a300f8",
   "metadata": {
    "scrolled": true
   },
   "outputs": [
    {
     "data": {
      "text/plain": [
       "ChainMap({'language': 'French', 'timeout': 300}, {'theme': 'light', 'language': 'English', 'timeout': 120})"
      ]
     },
     "execution_count": 105,
     "metadata": {},
     "output_type": "execute_result"
    }
   ],
   "source": [
    "config.parents"
   ]
  },
  {
   "cell_type": "markdown",
   "id": "fb6171d9-f268-4416-870e-b068d133b9ae",
   "metadata": {},
   "source": [
    "You can only modify the first chained dictionary"
   ]
  },
  {
   "cell_type": "code",
   "execution_count": 106,
   "id": "439e1e06-81c7-4915-a6ec-37d7a1b95abe",
   "metadata": {},
   "outputs": [
    {
     "data": {
      "text/plain": [
       "[{'theme': 'dark', 'language': 'spanish'},\n",
       " {'language': 'French', 'timeout': 300},\n",
       " {'theme': 'light', 'language': 'English', 'timeout': 120}]"
      ]
     },
     "execution_count": 106,
     "metadata": {},
     "output_type": "execute_result"
    }
   ],
   "source": [
    "config['language'] = 'spanish'\n",
    "config.maps"
   ]
  },
  {
   "cell_type": "code",
   "execution_count": 109,
   "id": "d043919d-b439-4711-9232-2e6b831f1ba5",
   "metadata": {},
   "outputs": [
    {
     "name": "stdout",
     "output_type": "stream",
     "text": [
      "Error  \"Key not found in the first mapping: 'timeout'\"\n"
     ]
    }
   ],
   "source": [
    "try:\n",
    "    del config['timeout']\n",
    "except KeyError as e:\n",
    "    print('Error ', e)"
   ]
  },
  {
   "cell_type": "markdown",
   "id": "ca0c6aa7-f5ea-4091-a225-fcd4718f80a0",
   "metadata": {},
   "source": [
    "Reversing Order"
   ]
  },
  {
   "cell_type": "code",
   "execution_count": 112,
   "id": "12d4f431-3424-48e8-87e1-863ce112ae7d",
   "metadata": {},
   "outputs": [
    {
     "data": {
      "text/plain": [
       "[{'theme': 'light', 'language': 'English', 'timeout': 120},\n",
       " {'language': 'French', 'timeout': 300},\n",
       " {'theme': 'dark', 'language': 'spanish'}]"
      ]
     },
     "execution_count": 112,
     "metadata": {},
     "output_type": "execute_result"
    }
   ],
   "source": [
    "reversed_chain = ChainMap(*reversed(config.maps))\n",
    "reversed_chain.maps"
   ]
  },
  {
   "cell_type": "markdown",
   "id": "df856933-b7c1-4661-8872-8395d90c94cd",
   "metadata": {},
   "source": [
    "`fromkeys` class method"
   ]
  },
  {
   "cell_type": "code",
   "execution_count": 70,
   "id": "49c140ea-9f6a-47ab-936e-f6c35394b1c2",
   "metadata": {},
   "outputs": [
    {
     "data": {
      "text/plain": [
       "ChainMap({'one': None, 'two': None, 'three': None})"
      ]
     },
     "execution_count": 70,
     "metadata": {},
     "output_type": "execute_result"
    }
   ],
   "source": [
    "ChainMap.fromkeys([\"one\", \"two\",\"three\"])"
   ]
  },
  {
   "cell_type": "code",
   "execution_count": 71,
   "id": "7d75880f-953d-4322-bf58-da19f36d425e",
   "metadata": {
    "scrolled": true
   },
   "outputs": [
    {
     "data": {
      "text/plain": [
       "ChainMap({'one': 0, 'two': 0, 'three': 0})"
      ]
     },
     "execution_count": 71,
     "metadata": {},
     "output_type": "execute_result"
    }
   ],
   "source": [
    "ChainMap.fromkeys([\"one\", \"two\",\"three\"], 0)"
   ]
  },
  {
   "cell_type": "markdown",
   "id": "c0458597-d0a7-45d9-a2f6-b750529ed32f",
   "metadata": {},
   "source": [
    "When you access a duplicate key, such as \"dogs\" and \"cats\", the chain map only returns the first occurrence of that key. Internally, lookup operations search the input mappings in the same order they appear in the internal list of mappings, which is also the exact order you pass them into the class’s initializer.\n",
    "\n",
    "This general behavior also applies to iteration:"
   ]
  },
  {
   "cell_type": "code",
   "execution_count": 72,
   "id": "deabc19c-75e4-4ecc-9134-37c7cce8e012",
   "metadata": {},
   "outputs": [
    {
     "name": "stdout",
     "output_type": "stream",
     "text": [
      "dogs -> 10\n",
      "cats -> 7\n",
      "turtles -> 1\n",
      "pythons -> 3\n"
     ]
    }
   ],
   "source": [
    "for_adoption = {\"dogs\": 10, \"cats\": 7, \"pythons\": 3}\n",
    "vet_treatment = {\"dogs\": 4, \"cats\": 3, \"turtles\": 1}\n",
    "pets = ChainMap(for_adoption, vet_treatment)\n",
    "\n",
    "for key, value in pets.items():\n",
    "    print(key, \"->\", value)"
   ]
  },
  {
   "cell_type": "markdown",
   "id": "5f05e872-1612-4f7d-876e-00aad14f0729",
   "metadata": {},
   "source": [
    "You can use other type of mappings"
   ]
  },
  {
   "cell_type": "code",
   "execution_count": 110,
   "id": "7149e1fb-69db-432d-a7de-69ce6a50d947",
   "metadata": {},
   "outputs": [
    {
     "name": "stdout",
     "output_type": "stream",
     "text": [
      "A\n"
     ]
    },
    {
     "data": {
      "text/plain": [
       "ChainMap(OrderedDict({'one': 1, 'two': 2}), defaultdict(<class 'str'>, {'a': 'A', 'b': 'B'}))"
      ]
     },
     "execution_count": 110,
     "metadata": {},
     "output_type": "execute_result"
    }
   ],
   "source": [
    "from collections import OrderedDict\n",
    "numbers = OrderedDict(one=1, two=2)\n",
    "letters = defaultdict(str, {\"a\": \"A\", \"b\": \"B\"})\n",
    "c = ChainMap(numbers, letters)\n",
    "print(c['a'])\n",
    "c"
   ]
  },
  {
   "cell_type": "markdown",
   "id": "66c8c1e7-f2c8-4d6c-ad5f-0ee60c6f687c",
   "metadata": {},
   "source": [
    "ChainMap also implements `.new_child()`. This method optionally takes a mapping as an argument and returns a new ChainMap instance containing the input mapping followed by all of the current mappings in the underlying chain map:"
   ]
  },
  {
   "cell_type": "code",
   "execution_count": 91,
   "id": "f682cd6d-a8fd-451e-89a6-c3ab1bac6e71",
   "metadata": {},
   "outputs": [
    {
     "data": {
      "text/plain": [
       "ChainMap({})"
      ]
     },
     "execution_count": 91,
     "metadata": {},
     "output_type": "execute_result"
    }
   ],
   "source": [
    "c = ChainMap()\n",
    "e = c.new_child()\n",
    "e[4] = 5\n",
    "d = c.new_child()\n",
    "d[5] = 6\n",
    "c"
   ]
  },
  {
   "cell_type": "code",
   "execution_count": 92,
   "id": "20351489-ce69-4765-a149-95b56750dcbd",
   "metadata": {},
   "outputs": [
    {
     "data": {
      "text/plain": [
       "ChainMap({4: 5}, {})"
      ]
     },
     "execution_count": 92,
     "metadata": {},
     "output_type": "execute_result"
    }
   ],
   "source": [
    "e"
   ]
  },
  {
   "cell_type": "markdown",
   "id": "f454cd82-98f1-469e-9764-cc7f724a43d0",
   "metadata": {
    "jp-MarkdownHeadingCollapsed": true
   },
   "source": [
    "## MappingProxyType\n",
    "\n",
    "The `types.MappingProxyType` is a wrapper class in Python's `types` module that provides a read-only view of a mapping, typically a dictionary. This means you can access the data within the dictionary but cannot modify it through the proxy. It is useful for creating immutable mappings, enforcing encapsulation, and preventing unintended side effects in your programs."
   ]
  },
  {
   "cell_type": "code",
   "execution_count": 118,
   "id": "9d3c558b-7cf6-4eed-aca8-8e5cb73d503c",
   "metadata": {},
   "outputs": [],
   "source": [
    "from types import MappingProxyType"
   ]
  },
  {
   "cell_type": "code",
   "execution_count": 121,
   "id": "4c46b1bb-3b7a-4b06-989a-41e83fc7151e",
   "metadata": {},
   "outputs": [
    {
     "name": "stdout",
     "output_type": "stream",
     "text": [
      "localhost\n",
      "Error:  'mappingproxy' object does not support item assignment\n"
     ]
    }
   ],
   "source": [
    "from types import MappingProxyType\n",
    "\n",
    "config = {'host': 'localhost', 'port': 8080}\n",
    "config_proxy = MappingProxyType(config)\n",
    "\n",
    "print(config_proxy['host'])  # Output: 'localhost'\n",
    "\n",
    "try:\n",
    "    config_proxy['host'] = '127.0.0.1'  # Raises TypeError\n",
    "except Exception as e:\n",
    "    print('Error: ', e)"
   ]
  },
  {
   "cell_type": "markdown",
   "id": "1b1c4792-679b-4039-8061-c92940df7628",
   "metadata": {},
   "source": [
    "**Encapsulation**\n",
    "\n",
    "By providing a read-only view, you can protect the internal state of objects, ensuring that only controlled modifications occur."
   ]
  },
  {
   "cell_type": "code",
   "execution_count": 123,
   "id": "6e343ffa-5a9c-488d-9e66-27186a106fe6",
   "metadata": {},
   "outputs": [
    {
     "name": "stdout",
     "output_type": "stream",
     "text": [
      "False\n",
      "Error  'mappingproxy' object does not support item assignment\n"
     ]
    }
   ],
   "source": [
    "class Settings:\n",
    "    def __init__(self):\n",
    "        self._options = {'debug': False, 'verbose': True}\n",
    "        self.options = MappingProxyType(self._options)\n",
    "\n",
    "settings = Settings()\n",
    "print(settings.options['debug'])  # Output: False\n",
    "\n",
    "try:\n",
    "    settings.options['debug'] = True  # Raises TypeError\n",
    "except Exception as e:\n",
    "    print('Error ', e)"
   ]
  },
  {
   "cell_type": "markdown",
   "id": "048ef2f6-859e-4fbd-bf73-faeca0d78d75",
   "metadata": {
    "jp-MarkdownHeadingCollapsed": true
   },
   "source": [
    "## array.array\n",
    "The array.array class creates an array that holds elements of a specified numeric type. Unlike lists, which can hold elements of different types, arrays enforce type consistency and store elements in a compact form, leading to significant memory savings and faster computations.\n",
    "\n",
    "check [here](https://docs.python.org/3/library/array.html) for codes"
   ]
  },
  {
   "cell_type": "code",
   "execution_count": 149,
   "id": "28ccdf24-89aa-4d06-a1e3-ebbd19699e74",
   "metadata": {},
   "outputs": [],
   "source": [
    "import array"
   ]
  },
  {
   "cell_type": "code",
   "execution_count": 147,
   "id": "852debff-efe9-47e3-959d-e8a3dbb50f2e",
   "metadata": {},
   "outputs": [
    {
     "data": {
      "text/plain": [
       "array('u', 'sbsa')"
      ]
     },
     "execution_count": 147,
     "metadata": {},
     "output_type": "execute_result"
    }
   ],
   "source": [
    "array.array('u', ['s', 'b', 's', 'a'])"
   ]
  },
  {
   "cell_type": "code",
   "execution_count": 148,
   "id": "a8568740-ab74-46e8-a1b6-5ab96bfbabf2",
   "metadata": {},
   "outputs": [
    {
     "data": {
      "text/plain": [
       "array('f', [12.0, 13.5])"
      ]
     },
     "execution_count": 148,
     "metadata": {},
     "output_type": "execute_result"
    }
   ],
   "source": [
    "array.array('f', [12.0, 13.5])"
   ]
  },
  {
   "cell_type": "markdown",
   "id": "9cc3382f-2025-4c52-83d2-61855f822b89",
   "metadata": {
    "jp-MarkdownHeadingCollapsed": true
   },
   "source": [
    "## dataclass\n"
   ]
  },
  {
   "cell_type": "code",
   "execution_count": 150,
   "id": "f5fc852b-9779-4bee-820d-153cbd31a60a",
   "metadata": {},
   "outputs": [],
   "source": [
    "from dataclasses import dataclass"
   ]
  },
  {
   "cell_type": "code",
   "execution_count": 181,
   "id": "93cc9fdd-6eff-47c3-bf86-864bd0b98113",
   "metadata": {},
   "outputs": [],
   "source": [
    "@dataclass\n",
    "class DataStructures:\n",
    "    num_structes:int\n",
    "\n",
    "@dataclass\n",
    "class Algorithms: \n",
    "    num_algorithms = 5"
   ]
  },
  {
   "cell_type": "code",
   "execution_count": 182,
   "id": "796ec477-dec6-4dec-8df1-1a3b58d64f71",
   "metadata": {},
   "outputs": [
    {
     "name": "stdout",
     "output_type": "stream",
     "text": [
      "DataStructures(num_structes=3)\n"
     ]
    }
   ],
   "source": [
    "ds = DataStructures(3)\n",
    "print(ds)"
   ]
  },
  {
   "cell_type": "code",
   "execution_count": 183,
   "id": "695b4d3b-7f15-42ed-be58-a7c7456e08ec",
   "metadata": {},
   "outputs": [
    {
     "data": {
      "text/plain": [
       "3"
      ]
     },
     "execution_count": 183,
     "metadata": {},
     "output_type": "execute_result"
    }
   ],
   "source": [
    "ds.num_structes"
   ]
  },
  {
   "cell_type": "code",
   "execution_count": 185,
   "id": "2618c4b5-0565-408a-8f51-cd972cb57574",
   "metadata": {},
   "outputs": [
    {
     "name": "stdout",
     "output_type": "stream",
     "text": [
      "Algorithms()\n"
     ]
    }
   ],
   "source": [
    "alg = Algorithms()\n",
    "print(alg)"
   ]
  },
  {
   "cell_type": "markdown",
   "id": "bdf43a72-8ab4-40f2-84a5-0f1bd09bc473",
   "metadata": {
    "jp-MarkdownHeadingCollapsed": true
   },
   "source": [
    "## frozenset\n",
    "Immutable Sets"
   ]
  },
  {
   "cell_type": "code",
   "execution_count": 187,
   "id": "f73704b3-5737-425b-b9f0-0c4bd8e3759d",
   "metadata": {},
   "outputs": [
    {
     "data": {
      "text/plain": [
       "frozenset({'a', 'e', 'i', 'o', 'u'})"
      ]
     },
     "execution_count": 187,
     "metadata": {},
     "output_type": "execute_result"
    }
   ],
   "source": [
    "vowels = frozenset({\"a\", \"e\", \"i\", \"o\", \"u\"})\n",
    "vowels"
   ]
  },
  {
   "cell_type": "code",
   "execution_count": 188,
   "id": "3885d407-50c2-49bb-a7c2-84494bb5dfda",
   "metadata": {},
   "outputs": [
    {
     "name": "stdout",
     "output_type": "stream",
     "text": [
      "Error  'frozenset' object has no attribute 'add'\n"
     ]
    }
   ],
   "source": [
    "try:\n",
    "    vowels.add(\"p\")\n",
    "except Exception as e:\n",
    "    print('Error ', e)"
   ]
  },
  {
   "cell_type": "markdown",
   "id": "9dd66bfa-6993-4f72-b701-b5ae339149a2",
   "metadata": {
    "jp-MarkdownHeadingCollapsed": true
   },
   "source": [
    "## collections.Counter: Multiset\n",
    "\n",
    "The `collections.Counter` class in the Python standard library implements a multiset, or bag, type that allows elements in the set to have more than one occurrence."
   ]
  },
  {
   "cell_type": "code",
   "execution_count": 189,
   "id": "59ed20b9-4454-4cc8-9c7f-fcdfd8bdc5d3",
   "metadata": {},
   "outputs": [],
   "source": [
    "from collections import Counter"
   ]
  },
  {
   "cell_type": "code",
   "execution_count": 190,
   "id": "30512558-6ca7-4034-9851-b0e2915136da",
   "metadata": {},
   "outputs": [
    {
     "data": {
      "text/plain": [
       "Counter({'bread': 3, 'sword': 1})"
      ]
     },
     "execution_count": 190,
     "metadata": {},
     "output_type": "execute_result"
    }
   ],
   "source": [
    "inventory = Counter()\n",
    "loot = {\"sword\": 1, \"bread\": 3}\n",
    "inventory.update(loot)\n",
    "inventory"
   ]
  },
  {
   "cell_type": "code",
   "execution_count": 191,
   "id": "ede05bf8-1759-4ec7-bd99-f8ea01d35b06",
   "metadata": {},
   "outputs": [
    {
     "data": {
      "text/plain": [
       "Counter({'bread': 3, 'sword': 2, 'apple': 1})"
      ]
     },
     "execution_count": 191,
     "metadata": {},
     "output_type": "execute_result"
    }
   ],
   "source": [
    "more_loot = {\"sword\": 1, \"apple\": 1}\n",
    "inventory.update(more_loot)\n",
    "inventory"
   ]
  },
  {
   "cell_type": "code",
   "execution_count": 192,
   "id": "c110499a-1e41-467e-a576-69acea2ef6a2",
   "metadata": {},
   "outputs": [
    {
     "data": {
      "text/plain": [
       "3"
      ]
     },
     "execution_count": 192,
     "metadata": {},
     "output_type": "execute_result"
    }
   ],
   "source": [
    "len(inventory)"
   ]
  },
  {
   "cell_type": "code",
   "execution_count": 193,
   "id": "c7e531ba-6156-4d4b-86e2-f5f9ab044665",
   "metadata": {},
   "outputs": [
    {
     "data": {
      "text/plain": [
       "6"
      ]
     },
     "execution_count": 193,
     "metadata": {},
     "output_type": "execute_result"
    }
   ],
   "source": [
    "sum(inventory.values())"
   ]
  },
  {
   "cell_type": "markdown",
   "id": "76f1e31e-9d5d-4fc2-8d61-1407b3fc7947",
   "metadata": {
    "jp-MarkdownHeadingCollapsed": true
   },
   "source": [
    "## collections.deque\n",
    "\n",
    "Deques are a generalization of stacks and queues (the name is pronounced “deck” and is short for “double-ended queue”). Deques support thread-safe, memory efficient appends and pops from either side of the deque with approximately the same `O(1)` performance in either direction.\n",
    "\n",
    "Though `list` objects support similar operations, they are optimized for fast fixed-length operations and incur `O(n)` memory movement costs for `pop(0)` and `insert(0, v)` operations which change both the size and position of the underlying data representation."
   ]
  },
  {
   "cell_type": "code",
   "execution_count": 194,
   "id": "52cb2d81-4f0b-4993-a750-8a00d81115c3",
   "metadata": {},
   "outputs": [],
   "source": [
    "from collections import deque"
   ]
  },
  {
   "cell_type": "code",
   "execution_count": 210,
   "id": "ef9081d6-0c9c-4f6c-900a-91ec80cb6302",
   "metadata": {},
   "outputs": [
    {
     "data": {
      "text/plain": [
       "deque([1, 2, 3, 4, 5])"
      ]
     },
     "execution_count": 210,
     "metadata": {},
     "output_type": "execute_result"
    }
   ],
   "source": [
    "d = deque([1,2,3,4,5])\n",
    "d"
   ]
  },
  {
   "cell_type": "code",
   "execution_count": 211,
   "id": "e22027e7-0d80-4eed-9dec-7dd82ca87c70",
   "metadata": {},
   "outputs": [
    {
     "data": {
      "text/plain": [
       "deque([0, 1, 2, 3, 4, 5, 6])"
      ]
     },
     "execution_count": 211,
     "metadata": {},
     "output_type": "execute_result"
    }
   ],
   "source": [
    "d.append(6)\n",
    "d.appendleft(0)\n",
    "d"
   ]
  },
  {
   "cell_type": "code",
   "execution_count": 212,
   "id": "62384ae8-0744-4662-bf6e-3b502df97905",
   "metadata": {},
   "outputs": [
    {
     "data": {
      "text/plain": [
       "[0, 1, 2, 3, 4, 5, 6]"
      ]
     },
     "execution_count": 212,
     "metadata": {},
     "output_type": "execute_result"
    }
   ],
   "source": [
    "list(d)"
   ]
  },
  {
   "cell_type": "code",
   "execution_count": 213,
   "id": "32ca7129-3a69-4e3d-8f95-1d213fbd8a06",
   "metadata": {},
   "outputs": [
    {
     "data": {
      "text/plain": [
       "deque([6, 0, 1, 2, 3, 4, 5])"
      ]
     },
     "execution_count": 213,
     "metadata": {},
     "output_type": "execute_result"
    }
   ],
   "source": [
    "d.rotate(1)\n",
    "d"
   ]
  },
  {
   "cell_type": "code",
   "execution_count": 214,
   "id": "132e09b3-c207-4988-b38c-4c1262bbef94",
   "metadata": {},
   "outputs": [
    {
     "data": {
      "text/plain": [
       "deque([0, 1, 2, 3, 4, 5, 6])"
      ]
     },
     "execution_count": 214,
     "metadata": {},
     "output_type": "execute_result"
    }
   ],
   "source": [
    "d.rotate(-1)\n",
    "d"
   ]
  },
  {
   "cell_type": "code",
   "execution_count": 215,
   "id": "20282bd0-e1da-430d-90f4-eef77d2d5d4e",
   "metadata": {},
   "outputs": [
    {
     "data": {
      "text/plain": [
       "deque([6, 5, 4, 3, 2, 1, 0])"
      ]
     },
     "execution_count": 215,
     "metadata": {},
     "output_type": "execute_result"
    }
   ],
   "source": [
    "deque(reversed(d))"
   ]
  },
  {
   "cell_type": "code",
   "execution_count": 220,
   "id": "6186bcb2-94d2-478d-a06b-709037443b4b",
   "metadata": {},
   "outputs": [
    {
     "data": {
      "text/plain": [
       "3"
      ]
     },
     "execution_count": 220,
     "metadata": {},
     "output_type": "execute_result"
    }
   ],
   "source": [
    "d.index(3)"
   ]
  },
  {
   "cell_type": "code",
   "execution_count": 224,
   "id": "aac11640-eebc-493a-91d2-f0ed018f4f7b",
   "metadata": {},
   "outputs": [
    {
     "data": {
      "text/plain": [
       "6"
      ]
     },
     "execution_count": 224,
     "metadata": {},
     "output_type": "execute_result"
    }
   ],
   "source": [
    "d.pop()"
   ]
  },
  {
   "cell_type": "code",
   "execution_count": 225,
   "id": "f5073598-8319-4b60-959f-68967bd19eb2",
   "metadata": {},
   "outputs": [
    {
     "data": {
      "text/plain": [
       "0"
      ]
     },
     "execution_count": 225,
     "metadata": {},
     "output_type": "execute_result"
    }
   ],
   "source": [
    "d.popleft()"
   ]
  },
  {
   "cell_type": "code",
   "execution_count": 226,
   "id": "c8edfb6f-451d-4e76-a3d1-761413edf09e",
   "metadata": {},
   "outputs": [
    {
     "data": {
      "text/plain": [
       "deque([1, 2, 3, 4, 5])"
      ]
     },
     "execution_count": 226,
     "metadata": {},
     "output_type": "execute_result"
    }
   ],
   "source": [
    "d"
   ]
  },
  {
   "cell_type": "markdown",
   "id": "61c533af-da3a-4ff1-8dc0-045bf5f4acb3",
   "metadata": {},
   "source": [
    "## queue\n",
    "\n",
    "The [queue](https://docs.python.org/3/library/queue.html#module-queue) module implements multi-producer, multi-consumer queues. It is especially useful in threaded programming when information must be exchanged safely between multiple threads. The Queue class in this module implements all the required locking semantics."
   ]
  },
  {
   "cell_type": "code",
   "execution_count": 249,
   "id": "63941f9e-a20b-4573-9bd8-a26f2f10ac1a",
   "metadata": {},
   "outputs": [],
   "source": [
    "from queue import Queue"
   ]
  },
  {
   "cell_type": "code",
   "execution_count": 253,
   "id": "2b4bd099-d145-44e7-99f3-92eb4d166bda",
   "metadata": {},
   "outputs": [],
   "source": [
    "q = Queue(maxsize=3)\n",
    "q.put('a')\n",
    "q.put('b')\n",
    "q.put('c')"
   ]
  },
  {
   "cell_type": "code",
   "execution_count": 254,
   "id": "1af03120-aa05-4628-ae62-d163a3dc7f49",
   "metadata": {},
   "outputs": [
    {
     "name": "stdout",
     "output_type": "stream",
     "text": [
      "Empty:  False\n",
      "Size:  3\n",
      "Full:  True\n"
     ]
    }
   ],
   "source": [
    "print('Empty: ', q.empty())\n",
    "print('Size: ', q.qsize())\n",
    "print('Full: ', q.full())"
   ]
  },
  {
   "cell_type": "code",
   "execution_count": 271,
   "id": "b3e15e43-486f-4981-a879-f06ffa18c509",
   "metadata": {},
   "outputs": [
    {
     "name": "stdout",
     "output_type": "stream",
     "text": [
      "Size before:  20\n",
      "Size after:  0\n"
     ]
    }
   ],
   "source": [
    "q = Queue()\n",
    "\n",
    "# creating a queue with 20 elements\n",
    "for i in range(20):\n",
    "    q.put(i)\n",
    "\n",
    "print('Size before: ', q.qsize())\n",
    "# q.join blocks the code until all queue is processed\n",
    "# the count of unfinished tasks goes up whenever an item\n",
    "# is added to queue. \n",
    "\n",
    "# the count goes down whenever a consumer thread calls task_done()\n",
    "# to indicate that the item was retrieved and all work on it is complete\n",
    "for _ in range(q.qsize()):\n",
    "    q.get()\n",
    "    q.task_done()\n",
    "q.join()\n",
    "print('Size after: ', q.qsize())"
   ]
  },
  {
   "cell_type": "markdown",
   "id": "81ccc080-6a6f-4178-b7e0-8dfc738b66ab",
   "metadata": {},
   "source": [
    "## multiprocessing.Queue\n",
    "\n",
    "The [`multiprocessing.Queue`](https://docs.python.org/3/library/multiprocessing.html#multiprocessing.Queue) class is a shared job queue that allows multiple producer and consumer processes to communicate. It is a process-safe queue implemented using pipes and locks, ensuring that data is transferred safely between processes without corruption or data loss."
   ]
  },
  {
   "cell_type": "markdown",
   "id": "9cb111de-35d2-4924-b76a-f438e9c28ce7",
   "metadata": {},
   "source": [
    "## Heap\n",
    "The heap is a specialized tree-based data structure that satisfies the heap property:\n",
    "\n",
    "In a min-heap, for any given node N, the value of N is less than or equal to the values of its children. In a max-heap, for any given node N, the value of N is greater than or equal to the values of its children. Heaps are commonly used to implement priority queues, where the element with the highest (or lowest) priority is always at the front.\n",
    "\n"
   ]
  },
  {
   "cell_type": "markdown",
   "id": "daceb8c3-4b32-405c-b65d-9263e4a8f0fc",
   "metadata": {},
   "source": [
    "The [`heapq`](https://docs.python.org/3/library/heapq.html) module in Python provides an implementation of the min-heap queue algorithm. It offers a set of functions that let you maintain a list in the heap order, where the smallest element is always at the index position 0.\n",
    "\n",
    "Key Characteristics:\n",
    "- **Efficient Operations**: Insertion and extraction of the smallest element are O(logn) operations.\n",
    "- **In-place Transformation**: Functions like heapify() transform a list into a heap in-place.\n",
    "- **Not a Complete Priority Queue**: While heapq provides the core functionality, it doesn't include all methods you'd expect from a full-featured priority queue (like item removal, priority updates).\n"
   ]
  },
  {
   "cell_type": "markdown",
   "id": "40d15dd9-af47-4e1e-abdd-8e4f75246066",
   "metadata": {},
   "source": [
    "When tasks have different priorities, and you need to process them in order of priority."
   ]
  },
  {
   "cell_type": "code",
   "execution_count": 273,
   "id": "b9088f4a-480f-4bfe-87b1-93ca8272d51b",
   "metadata": {},
   "outputs": [
    {
     "name": "stdout",
     "output_type": "stream",
     "text": [
      "Priority 1: write code\n",
      "Priority 2: clean the house\n",
      "Priority 3: go shopping\n"
     ]
    }
   ],
   "source": [
    "import heapq\n",
    "\n",
    "tasks = [\n",
    "    (2, 'clean the house'),\n",
    "    (1, 'write code'),\n",
    "    (3, 'go shopping'),\n",
    "]\n",
    "\n",
    "heapq.heapify(tasks)\n",
    "\n",
    "while tasks:\n",
    "    priority, task = heapq.heappop(tasks)\n",
    "    print(f'Priority {priority}: {task}')"
   ]
  },
  {
   "cell_type": "markdown",
   "id": "9493923c-0337-4a40-aef0-2406e12763ea",
   "metadata": {},
   "source": [
    "When you need to find the smallest or largest elements in a large dataset."
   ]
  },
  {
   "cell_type": "code",
   "execution_count": 274,
   "id": "203d07f7-dfe7-47bf-bc8c-3e1246fd1418",
   "metadata": {},
   "outputs": [
    {
     "name": "stdout",
     "output_type": "stream",
     "text": [
      "Smallest: [2, 3, 5]\n",
      "Largest: [15, 12, 9]\n"
     ]
    }
   ],
   "source": [
    "numbers = [15, 3, 9, 8, 5, 2, 7, 12, 6]\n",
    "\n",
    "smallest = heapq.nsmallest(3, numbers)\n",
    "largest = heapq.nlargest(3, numbers)\n",
    "\n",
    "print(f'Smallest: {smallest}')\n",
    "print(f'Largest: {largest}')"
   ]
  },
  {
   "cell_type": "markdown",
   "id": "69eb4f21-3c27-48dd-8086-c09eef9a3b7e",
   "metadata": {},
   "source": [
    "Efficiently merge multiple sorted lists into a single sorted list"
   ]
  },
  {
   "cell_type": "code",
   "execution_count": 275,
   "id": "86a896b6-d2cd-4751-bfba-aebc2a6cab02",
   "metadata": {},
   "outputs": [
    {
     "name": "stdout",
     "output_type": "stream",
     "text": [
      "[0, 1, 2, 3, 4, 5, 6, 7, 8]\n"
     ]
    }
   ],
   "source": [
    "list1 = [1, 3, 5]\n",
    "list2 = [2, 4, 6]\n",
    "list3 = [0, 7, 8]\n",
    "\n",
    "merged = heapq.merge(list1, list2, list3)\n",
    "print(list(merged))\n"
   ]
  },
  {
   "cell_type": "code",
   "execution_count": 285,
   "id": "3c31f024-1c7d-4523-ab5f-0a4f114d2704",
   "metadata": {},
   "outputs": [
    {
     "data": {
      "text/plain": [
       "[2, 3, 7, 6, 5, 9, 15, 12, 8]"
      ]
     },
     "execution_count": 285,
     "metadata": {},
     "output_type": "execute_result"
    }
   ],
   "source": [
    "numbers = [15, 3, 9, 8, 5, 2, 7, 12, 6]\n",
    "heapq.heapify(numbers)\n",
    "numbers"
   ]
  },
  {
   "cell_type": "code",
   "execution_count": 284,
   "id": "b3bcc399-1dbb-4626-9c16-23948039a35e",
   "metadata": {},
   "outputs": [
    {
     "name": "stdout",
     "output_type": "stream",
     "text": [
      "Smallest 2\n",
      "Smallest 3\n",
      "Smallest 5\n",
      "Smallest 6\n",
      "Smallest 7\n",
      "Smallest 8\n",
      "Smallest 9\n",
      "Smallest 12\n",
      "Smallest 15\n"
     ]
    }
   ],
   "source": [
    "while numbers:\n",
    "    num = heapq.heappop(numbers)\n",
    "    print(f'Smallest {num}')"
   ]
  },
  {
   "cell_type": "markdown",
   "id": "caddf26b-be21-4a98-b41d-d2de835593ce",
   "metadata": {},
   "source": [
    "## queue.PriorityQueue"
   ]
  },
  {
   "cell_type": "markdown",
   "id": "785cf3ee-3904-4c50-82f3-6644d91c6878",
   "metadata": {},
   "source": [
    "[`queue.PriorityQueue`](https://docs.python.org/3/library/queue.html#queue.PriorityQueue) uses heapq internally and shares the same time and space complexities. The difference is that PriorityQueue is synchronized and provides locking semantics to support multiple concurrent producers and consumers.\n",
    "\n",
    "Depending on your use case, this might be helpful, or it might just slow your program down slightly. In any case, you might prefer the class-based interface provided by PriorityQueue over the function-based interface provided by heapq:"
   ]
  },
  {
   "cell_type": "code",
   "execution_count": 286,
   "id": "36aa51c8-2756-43fc-a227-bf08fcc99639",
   "metadata": {},
   "outputs": [],
   "source": [
    "from queue import PriorityQueue"
   ]
  },
  {
   "cell_type": "code",
   "execution_count": 295,
   "id": "cf8021b5-9511-4517-a067-52f74e8e014e",
   "metadata": {},
   "outputs": [
    {
     "name": "stdout",
     "output_type": "stream",
     "text": [
      "(1, 'eat')\n",
      "(2, 'code')\n",
      "(3, 'sleep')\n"
     ]
    }
   ],
   "source": [
    "q = PriorityQueue()\n",
    "q.put((2, \"code\"))\n",
    "q.put((1, \"eat\"))\n",
    "q.put((3, \"sleep\"))\n",
    "\n",
    "while not q.empty():\n",
    "    next_item = q.get()\n",
    "    print(next_item)"
   ]
  },
  {
   "cell_type": "code",
   "execution_count": null,
   "id": "da1dd308-93a9-40a7-a159-b5459ac3ee57",
   "metadata": {},
   "outputs": [],
   "source": []
  }
 ],
 "metadata": {
  "kernelspec": {
   "display_name": "Python 3 (ipykernel)",
   "language": "python",
   "name": "python3"
  },
  "language_info": {
   "codemirror_mode": {
    "name": "ipython",
    "version": 3
   },
   "file_extension": ".py",
   "mimetype": "text/x-python",
   "name": "python",
   "nbconvert_exporter": "python",
   "pygments_lexer": "ipython3",
   "version": "3.12.3"
  }
 },
 "nbformat": 4,
 "nbformat_minor": 5
}
