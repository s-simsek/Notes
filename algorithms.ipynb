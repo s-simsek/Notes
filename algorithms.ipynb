{
 "cells": [
  {
   "cell_type": "code",
   "execution_count": 3,
   "id": "f90f739d-0f50-4124-8fed-874a9bf4a79c",
   "metadata": {},
   "outputs": [],
   "source": [
    "import numpy as np\n",
    "import pandas as pd\n",
    "import requests\n",
    "from typing import List"
   ]
  },
  {
   "cell_type": "code",
   "execution_count": 10,
   "id": "aed54666-b928-4fd3-a784-fb8ffdbee9a0",
   "metadata": {},
   "outputs": [],
   "source": [
    "def count(a, b):\n",
    "    '''Number of times permutations of a is equal to \n",
    "    any substring of b'''\n",
    "    def convert_dict(s):\n",
    "        return {i:s.count(i) for i in set(s)}\n",
    "        \n",
    "    def get_substrings(s):\n",
    "        perm = []\n",
    "        string_list = [i for i in s]\n",
    "        for i in range(len(string_list)):\n",
    "            sub_perms = [''.join(string_list[i:j+1]) for j in range(i, len(string_list))]\n",
    "            perm.extend(sub_perms)\n",
    "        return list(set(perm))  \n",
    "        \n",
    "    a_dict = convert_dict(a)\n",
    "    substrings = get_substrings(b)\n",
    "    count = 0\n",
    "    for i in substrings:\n",
    "        i_dict = convert_dict(i)\n",
    "        if i_dict == a_dict:\n",
    "            count += 1\n",
    "            \n",
    "    return count"
   ]
  },
  {
   "cell_type": "code",
   "execution_count": 16,
   "id": "896e18d7-7620-4b4c-8b37-6d9ca2aa706b",
   "metadata": {},
   "outputs": [],
   "source": [
    "a = 'da'\n",
    "b = 'adbcdaefgabc'"
   ]
  },
  {
   "cell_type": "code",
   "execution_count": 17,
   "id": "6c969e7d-02e8-4533-a2b3-e8c117c6cfdd",
   "metadata": {},
   "outputs": [
    {
     "data": {
      "text/plain": [
       "2"
      ]
     },
     "execution_count": 17,
     "metadata": {},
     "output_type": "execute_result"
    }
   ],
   "source": [
    "count(a, b)"
   ]
  },
  {
   "cell_type": "markdown",
   "id": "3a292f3a-5e03-447d-be94-d9d5a6467bab",
   "metadata": {
    "jp-MarkdownHeadingCollapsed": true
   },
   "source": [
    "### Longest Substring without repeating characters"
   ]
  },
  {
   "cell_type": "code",
   "execution_count": 18,
   "id": "bb14f6a6-79cf-4ada-bed5-4996e08e1fe6",
   "metadata": {},
   "outputs": [],
   "source": [
    "# Longest substring without repeating characters\n",
    "\n",
    "string1 = 'abcdaca' # 'abcd'\n",
    "string2 = 'abcabcabcdeabc' # 'abcde'\n",
    "string3 = 'abcade' # 'bcade'\n",
    "\n",
    "# O(n^2)\n",
    "def longest_sub(string):\n",
    "    sub = ''\n",
    "    longest = ''\n",
    "    for ix, i in enumerate(string):\n",
    "        if i not in sub:\n",
    "            sub += i\n",
    "            for j in string[ix+1:]:\n",
    "                if j not in sub:\n",
    "                    sub += j\n",
    "                else:\n",
    "                    if len(sub) > len(longest):\n",
    "                        longest = sub\n",
    "                    sub = ''\n",
    "                    break\n",
    "        else:\n",
    "            if len(sub) > len(longest):\n",
    "                longest = sub\n",
    "            sub = ''\n",
    "    return longest\n",
    "\n",
    "# O(n)\n",
    "def longest_sub_opt(string):\n",
    "    sub = ''\n",
    "    longest = ''\n",
    "    char_index = {}\n",
    "    total = 0\n",
    "    for ix, i in enumerate(string):\n",
    "        if i not in sub:\n",
    "            sub += i\n",
    "            char_index[i] = ix\n",
    "        else:\n",
    "            sub = sub[char_index[i] + 1 - total:] + i\n",
    "            total = char_index[i] + 1\n",
    "            char_index[i] = ix\n",
    "        if len(sub) > len(longest):\n",
    "                longest = sub\n",
    "    return longest"
   ]
  },
  {
   "cell_type": "code",
   "execution_count": 19,
   "id": "f6fdbd62-3f44-44fe-af52-4b42431de361",
   "metadata": {},
   "outputs": [
    {
     "data": {
      "text/plain": [
       "True"
      ]
     },
     "execution_count": 19,
     "metadata": {},
     "output_type": "execute_result"
    }
   ],
   "source": [
    "longest_sub_opt(string1) == longest_sub(string1) == 'abcd'"
   ]
  },
  {
   "cell_type": "code",
   "execution_count": 20,
   "id": "86c1546c-e8cd-446a-8795-34cd58dcaefb",
   "metadata": {},
   "outputs": [
    {
     "data": {
      "text/plain": [
       "True"
      ]
     },
     "execution_count": 20,
     "metadata": {},
     "output_type": "execute_result"
    }
   ],
   "source": [
    "longest_sub_opt(string2) == longest_sub(string2) == 'abcde'"
   ]
  },
  {
   "cell_type": "code",
   "execution_count": 21,
   "id": "a57e7d03-56d3-4f3a-bc4b-0f24bf9ca4ad",
   "metadata": {},
   "outputs": [
    {
     "data": {
      "text/plain": [
       "True"
      ]
     },
     "execution_count": 21,
     "metadata": {},
     "output_type": "execute_result"
    }
   ],
   "source": [
    "longest_sub_opt(string3) == longest_sub(string3) == 'bcade'"
   ]
  },
  {
   "cell_type": "markdown",
   "id": "c94c7cec-7d77-4395-b21e-858a20c19d79",
   "metadata": {
    "jp-MarkdownHeadingCollapsed": true
   },
   "source": [
    "### Largest Rectangle in Histogram\n",
    "\n",
    "Given an array of integers heights representing the histogram's bar height where the width of each bar is 1, return the area of the largest rectangle in the histogram."
   ]
  },
  {
   "cell_type": "code",
   "execution_count": 22,
   "id": "1b061766-1edb-4655-a593-12d0a50a8360",
   "metadata": {},
   "outputs": [
    {
     "name": "stdout",
     "output_type": "stream",
     "text": [
      "10\n"
     ]
    }
   ],
   "source": [
    "# brute force O(n^2)\n",
    "def largestRectangleArea(self, heights: List[int]) -> int:\n",
    "    max_h = 0\n",
    "    for i in range(1, len(heights)+1):\n",
    "        for j in range(len(heights)+1-i):\n",
    "            window = heights[j: j+i]\n",
    "            if min(window)*i > max_h:\n",
    "                max_h = min(window)*i\n",
    "    return max_h\n",
    "\n",
    "# monotonic stack O(n)\n",
    "def largestRectangleArea(heights: List[int]) -> int:\n",
    "    stack = []  # This will store the indices of the histogram bars\n",
    "    max_area = 0\n",
    "    heights.append(0)  # Append a zero height to flush out the stack at the end\n",
    "\n",
    "    for i, h in enumerate(heights):\n",
    "        # While the current height is less than the height of the bar at stack's top\n",
    "        while stack and heights[stack[-1]] > h:\n",
    "            height = heights[stack.pop()]\n",
    "            # If the stack is empty, it means the popped height is the smallest\n",
    "            # on the left side, so we calculate the area up to i\n",
    "            width = i if not stack else i - stack[-1] - 1\n",
    "            max_area = max(max_area, height * width)\n",
    "        stack.append(i)\n",
    "\n",
    "    return max_area\n",
    "\n",
    "print(largestRectangleArea([2, 1, 5, 6, 2, 3]))  # Output: 10"
   ]
  },
  {
   "cell_type": "markdown",
   "id": "51c373a7-2106-4e4f-8684-c92d412a7657",
   "metadata": {
    "jp-MarkdownHeadingCollapsed": true
   },
   "source": [
    "### Jump Game\n",
    "\n",
    "You are given an integer array nums. You are initially positioned at the array's first index, and each element in the array represents your maximum jump length at that position.\n",
    "\n",
    "Return true if you can reach the last index, or false otherwise."
   ]
  },
  {
   "cell_type": "code",
   "execution_count": 23,
   "id": "17f8824b-56e5-4d78-be34-a62e2fa0a60d",
   "metadata": {},
   "outputs": [
    {
     "data": {
      "text/plain": [
       "False"
      ]
     },
     "execution_count": 23,
     "metadata": {},
     "output_type": "execute_result"
    }
   ],
   "source": [
    "def canJump(nums: List[int]) -> bool:\n",
    "    if nums[0] == 0:\n",
    "        return False\n",
    "    elif nums[0] + 1 >= len(nums):\n",
    "        return True\n",
    "    else:\n",
    "        return any([canJump(nums[i:]) for i in range(1, nums[0])])\n",
    "\n",
    "a = [2,3,1,1,4] # true\n",
    "b = [3,2,1,0,4] # false\n",
    "c = [2,3,0,2,0,1] # true\n",
    "d = [2,3,3,0,0,0,1] # false\n",
    "canJump(d)"
   ]
  },
  {
   "cell_type": "markdown",
   "id": "75c210aa-1e45-4d65-a33b-b32067f799da",
   "metadata": {
    "jp-MarkdownHeadingCollapsed": true
   },
   "source": [
    "### Is Subsequence?\n",
    "Given two strings s and t, return true if s is a subsequence of t, or false otherwise.\n",
    "\n",
    "A subsequence of a string is a new string that is formed from the original string by deleting some (can be none) of the characters without disturbing the relative positions of the remaining characters. (i.e., \"ace\" is a subsequence of \"abcde\" while \"aec\" is not)."
   ]
  },
  {
   "cell_type": "code",
   "execution_count": 24,
   "id": "93f0b3ce-2723-4d0f-a225-b629ee7fbe26",
   "metadata": {},
   "outputs": [],
   "source": [
    "def isSubsequence(s: str, t: str) -> bool:\n",
    "    if not len(s):\n",
    "        return True\n",
    "    index = 0\n",
    "    order_index = -1\n",
    "    for ix, i in enumerate(t):\n",
    "        if i == s[index] and ix > order_index:\n",
    "            index += 1\n",
    "            order_index = ix\n",
    "            if index == len(s):\n",
    "                return True\n",
    "    return False"
   ]
  },
  {
   "cell_type": "markdown",
   "id": "4811f88c-2e63-4261-8884-9213100a81b3",
   "metadata": {
    "jp-MarkdownHeadingCollapsed": true
   },
   "source": [
    "### 3Sum\n",
    "Given an integer array nums, return all the triplets [nums[i], nums[j], nums[k]] such that i != j, i != k, and j != k, and nums[i] + nums[j] + nums[k] == 0.\n",
    "\n",
    "Notice that the solution set must not contain duplicate triplets."
   ]
  },
  {
   "cell_type": "code",
   "execution_count": 25,
   "id": "e24b2abb-efbb-4d74-af95-3add9b69283c",
   "metadata": {},
   "outputs": [
    {
     "data": {
      "text/plain": [
       "[[-1, -1, 2], [-1, 0, 1]]"
      ]
     },
     "execution_count": 25,
     "metadata": {},
     "output_type": "execute_result"
    }
   ],
   "source": [
    "def threeSum(nums: List[int]) -> List[List[int]]:\n",
    "    results = []\n",
    "    nums.sort()\n",
    "    for i in range(len(nums)):\n",
    "        # control statement for not repeating the same solution\n",
    "        # if the next element for first pointer is same as the last element\n",
    "        # move until an unseen element is found\n",
    "        if i > 0 and nums[i] == nums[i-1]:\n",
    "            continue\n",
    "        j = i+1 # initialize second pointer right after first pointer\n",
    "        k = len(nums) - 1 # initialize third pointer from the end \n",
    "        while j < k:\n",
    "            total = nums[i] + nums[j] + nums[k]\n",
    "            # move second and third pointers based on the sum\n",
    "            if total > 0:\n",
    "                k -= 1\n",
    "            elif total < 0:\n",
    "                j += 1\n",
    "            else:\n",
    "                results.append([nums[i], nums[j], nums[k]])\n",
    "                j += 1\n",
    "                # move j to the right until new element is found or until \n",
    "                # it reaches to k\n",
    "                while nums[j] == nums[j-1] and j < k:\n",
    "                    j += 1\n",
    "    return results\n",
    "\n",
    "threeSum([-1,0,1,2,-1,-4])"
   ]
  },
  {
   "cell_type": "markdown",
   "id": "b51bfc32-ad40-4143-adab-cc02c818b236",
   "metadata": {},
   "source": [
    "### Shortest Path\n",
    "\n",
    "We have a set of n warehouses scattered between China, Vietnam, Canada and US. Each warehouses are connected by a number of flights.\n",
    "\n",
    "\n",
    "Input:\n",
    "- An array warehouses, where warehouses[i] = [from_i, to_i, cost_i] which indicates that there is a flight from warehouse from_i to warehouse to_i with cost cost_i.\n",
    "- An integer representing the id of the source warehouse src\n",
    "- An integer representing the id of the destination warehouse dst\n",
    "- An integer representing the maximum number of stops our fire products can do k\n",
    "\n",
    "\n",
    "Output:\n",
    "- Return the cheapest cost to ship a product from the source warehouse src to the destination warehouse dst with at most k stops. If there is no such route, return -1"
   ]
  },
  {
   "cell_type": "code",
   "execution_count": 26,
   "id": "549376bb-1c04-4cbe-8ca5-c97756d0a4fd",
   "metadata": {},
   "outputs": [],
   "source": [
    "def cheapest_cost(warehouses, src, dst, k):\n",
    "    \n",
    "    def get_cost(warehouses, src, dst, k):\n",
    "        min_cost = float('inf')\n",
    "        if src == dst:\n",
    "            return 0\n",
    "        if k == -1 and src != dst:\n",
    "            return float('inf')\n",
    "    \n",
    "        for i in range(len(warehouses)):\n",
    "            if warehouses[i][0] == src:\n",
    "                c = warehouses[i][2] + get_cost(warehouses, warehouses[i][1], dst, k-1)\n",
    "                min_cost = min(c, min_cost)\n",
    "        return min_cost \n",
    "\n",
    "    result = get_cost(warehouses, src, dst, k)\n",
    "\n",
    "    if result == float('inf'):\n",
    "        return -1\n",
    "    else:\n",
    "        return result"
   ]
  },
  {
   "cell_type": "code",
   "execution_count": 27,
   "id": "ef66a309-749d-4c5b-972d-af37521d89d4",
   "metadata": {},
   "outputs": [
    {
     "data": {
      "text/plain": [
       "200"
      ]
     },
     "execution_count": 27,
     "metadata": {},
     "output_type": "execute_result"
    }
   ],
   "source": [
    "warehouses = [[0,1,100], [1,2,100], [0,2,500]]\n",
    "cheapest_cost(warehouses, 0, 2, 1)"
   ]
  },
  {
   "cell_type": "code",
   "execution_count": 28,
   "id": "865e97a0-5493-4631-b696-fcf51897be73",
   "metadata": {},
   "outputs": [
    {
     "data": {
      "text/plain": [
       "700"
      ]
     },
     "execution_count": 28,
     "metadata": {},
     "output_type": "execute_result"
    }
   ],
   "source": [
    "warehouses = [[0, 1, 100], [1, 2, 100], [2, 0, 100], [1, 3, 600], [2, 3, 200]]\n",
    "cheapest_cost(warehouses, 0, 3, 1)"
   ]
  },
  {
   "cell_type": "markdown",
   "id": "950ab3ec-a369-4327-bd24-2cc5c55adce4",
   "metadata": {},
   "source": [
    "Priority Queue implementation with `heapq`"
   ]
  },
  {
   "cell_type": "code",
   "execution_count": 29,
   "id": "37bbf614-60e9-4c7d-a707-5e173dd6ca37",
   "metadata": {},
   "outputs": [],
   "source": [
    "import heapq\n",
    "from collections import defaultdict\n",
    "\n",
    "def findCheapestPrice(warehouses, src, dst, k):\n",
    "    # Create an adjacency list\n",
    "    graph = defaultdict(list)\n",
    "    for frm, to, cost in warehouses:\n",
    "        graph[frm].append((to, cost))\n",
    "    \n",
    "    # Min-heap (cost, current warehouse, number of stops)\n",
    "    heap = [(0, src, 0)]\n",
    "    \n",
    "    # Dictionary to track the minimum cost to a warehouse with a certain number of stops\n",
    "    visited = dict()\n",
    "    \n",
    "    while heap:\n",
    "        cost, node, stops = heapq.heappop(heap)\n",
    "        \n",
    "        # If we reach the destination and stops is within the limit\n",
    "        if node == dst:\n",
    "            return cost\n",
    "        \n",
    "        # If the number of stops is within the limit\n",
    "        if stops <= k:\n",
    "            # Explore the neighbors\n",
    "            for neighbor, price in graph[node]:\n",
    "                new_cost = cost + price\n",
    "                if (neighbor, stops) not in visited or new_cost < visited[(neighbor, stops)]:\n",
    "                    visited[(neighbor, stops)] = new_cost\n",
    "                    heapq.heappush(heap, (new_cost, neighbor, stops + 1))\n",
    "    \n",
    "    # If no valid path is found\n",
    "    return -1"
   ]
  },
  {
   "cell_type": "code",
   "execution_count": 32,
   "id": "7b1d8fd9-5b9f-44b1-9aeb-507a9040fdf3",
   "metadata": {},
   "outputs": [
    {
     "data": {
      "text/plain": [
       "200"
      ]
     },
     "execution_count": 32,
     "metadata": {},
     "output_type": "execute_result"
    }
   ],
   "source": [
    "warehouses1 = [[0,1,100], [1,2,100], [0,2,500]]\n",
    "findCheapestPrice(warehouses1, 0, 2, 1)"
   ]
  },
  {
   "cell_type": "code",
   "execution_count": 33,
   "id": "24095da1-3126-436f-ab56-3ada9cfc9679",
   "metadata": {},
   "outputs": [
    {
     "data": {
      "text/plain": [
       "700"
      ]
     },
     "execution_count": 33,
     "metadata": {},
     "output_type": "execute_result"
    }
   ],
   "source": [
    "warehouses2 = [[0, 1, 100], [1, 2, 100], [2, 0, 100], [1, 3, 600], [2, 3, 200]]\n",
    "findCheapestPrice(warehouses2, 0, 3, 1)"
   ]
  },
  {
   "cell_type": "markdown",
   "id": "2e1c0701-3abf-4592-873d-adbf3a25e0e4",
   "metadata": {},
   "source": [
    "Dijkstra style solution to find all possible shortest paths within k stops from source to any destination"
   ]
  },
  {
   "cell_type": "code",
   "execution_count": 115,
   "id": "4a0ca9c1-2b42-46b9-8f6a-58fc8d257293",
   "metadata": {},
   "outputs": [
    {
     "data": {
      "text/plain": [
       "{0: 0, 1: 100, 2: 200, 3: 400}"
      ]
     },
     "execution_count": 115,
     "metadata": {},
     "output_type": "execute_result"
    }
   ],
   "source": [
    "def find_cheapest_prices_to_all(warehouses, src, k):\n",
    "    # Create adjacency list to represent the graph\n",
    "    graph = defaultdict(list)\n",
    "    for u, v, cost in warehouses:\n",
    "        graph[u].append((v, cost))\n",
    "    \n",
    "    # Priority queue: stores tuples (cost, node, stops)\n",
    "    pq = [(0, src, 0)]  # (cost to reach node, node, number of stops)\n",
    "    \n",
    "    # Minimum costs to each destination\n",
    "    min_cost_to = defaultdict(lambda: float('inf'))\n",
    "    min_cost_to[src] = 0\n",
    "    \n",
    "    # Run Dijkstra's-like search with stop constraint\n",
    "    while pq:\n",
    "        current_cost, current_node, stops = heapq.heappop(pq)\n",
    "        \n",
    "        # If we haven't exceeded the stop limit, explore neighbors\n",
    "        if stops <= k:\n",
    "            for neighbor, cost in graph[current_node]:\n",
    "                new_cost = current_cost + cost\n",
    "                # Only update if we found a cheaper path with the number of stops allowed\n",
    "                if new_cost < min_cost_to[neighbor]:\n",
    "                    min_cost_to[neighbor] = new_cost\n",
    "                    heapq.heappush(pq, (new_cost, neighbor, stops + 1))\n",
    "    \n",
    "    # Replace unreachable nodes with -1\n",
    "    for node in min_cost_to:\n",
    "        if min_cost_to[node] == float('inf'):\n",
    "            min_cost_to[node] = -1\n",
    "    \n",
    "    return dict(min_cost_to)\n",
    "\n",
    "find_cheapest_prices_to_all(warehouses2, 0, 2)"
   ]
  },
  {
   "cell_type": "markdown",
   "id": "a006fca2-eb48-4f7f-99be-49c4a0f614d6",
   "metadata": {},
   "source": [
    "### Trapping Rain Water\n",
    "\n",
    "Given n non-negative integers representing an elevation map where the width of each bar is 1, compute how much water it can trap after raining."
   ]
  },
  {
   "cell_type": "code",
   "execution_count": 117,
   "id": "14dff7da-4489-45b0-8d21-d509e500323a",
   "metadata": {},
   "outputs": [
    {
     "name": "stdout",
     "output_type": "stream",
     "text": [
      "True\n",
      "True\n"
     ]
    }
   ],
   "source": [
    "# initial solution\n",
    "def trap(height: List[int]) -> int:\n",
    "    maxh = height[0] # keeping maximum\n",
    "    total = 0 # total water fill\n",
    "    possible_water = 0 # potential water fill\n",
    "    visited = set() \n",
    "    for i in range(1, len(height)):\n",
    "        if height[i] >= maxh:\n",
    "            maxh = height[i]\n",
    "            # if new max is found, add all previously found potential water fills\n",
    "            total += possible_water\n",
    "            possible_water = 0\n",
    "\n",
    "        # if the current bar is not the new max but longer than the previous bar\n",
    "        # then there is a guranteed water fill\n",
    "        elif height[i] > height[i-1]: \n",
    "            possible_water += maxh - height[i]   \n",
    "            sure_water = 0\n",
    "            index = i - 1\n",
    "            # keep looping until a previously longer bar is found\n",
    "            while height[i] >= height[index]:\n",
    "                if index in visited:\n",
    "                    sure_water += current_missing\n",
    "                else:\n",
    "                    visited.add(index)\n",
    "                    current_missing = height[i] - height[index]\n",
    "                    sure_water += current_missing\n",
    "                index -= 1\n",
    "            total += sure_water\n",
    "            possible_water -= sure_water  \n",
    "\n",
    "        # keep track of possible water fills\n",
    "        else: \n",
    "            possible_water += maxh - height[i]      \n",
    "        \n",
    "    return total\n",
    "\n",
    "# two-pointer approach\n",
    "def trap_two(height: List[int]) -> int:\n",
    "    if not height:\n",
    "        return 0\n",
    "    left, right = 0, len(height) - 1  # Initialize two pointers\n",
    "    left_max, right_max = 0, 0  # Initialize max heights\n",
    "    total = 0  # Total trapped water\n",
    "    while left < right:\n",
    "        if height[left] < height[right]:\n",
    "            if height[left] >= left_max:\n",
    "                left_max = height[left]  # Update left_max\n",
    "            else:\n",
    "                total += left_max - height[left]  # Accumulate trapped water\n",
    "            left += 1  # Move left pointer\n",
    "        else:\n",
    "            if height[right] >= right_max:\n",
    "                right_max = height[right]  # Update right_max\n",
    "            else:\n",
    "                total += right_max - height[right]  # Accumulate trapped water\n",
    "            right -= 1  # Move right pointer\n",
    "    return total\n",
    "case1 = [0,1,0,2,1,0,1,3,2,1,2,1] # 6\n",
    "case2 = [4,2,0,3,2,5] # 9\n",
    "print(trap(case1) == trap_two(case1))\n",
    "print(trap(case2) == trap_two(case2))"
   ]
  },
  {
   "cell_type": "code",
   "execution_count": null,
   "id": "25375f10-d5b7-42a3-8e9f-6e9d496d5bc1",
   "metadata": {},
   "outputs": [],
   "source": []
  },
  {
   "cell_type": "code",
   "execution_count": null,
   "id": "f6e2b8aa-4bab-4a54-87d2-b2b5b56ab2db",
   "metadata": {},
   "outputs": [],
   "source": []
  }
 ],
 "metadata": {
  "kernelspec": {
   "display_name": "Python 3 (ipykernel)",
   "language": "python",
   "name": "python3"
  },
  "language_info": {
   "codemirror_mode": {
    "name": "ipython",
    "version": 3
   },
   "file_extension": ".py",
   "mimetype": "text/x-python",
   "name": "python",
   "nbconvert_exporter": "python",
   "pygments_lexer": "ipython3",
   "version": "3.12.3"
  }
 },
 "nbformat": 4,
 "nbformat_minor": 5
}
