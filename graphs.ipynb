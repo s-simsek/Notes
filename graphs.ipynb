{
 "cells": [
  {
   "cell_type": "markdown",
   "id": "7e50183c-b92f-4f6e-9cd5-9c3b5ca6baee",
   "metadata": {},
   "source": [
    "### Directed Graph"
   ]
  },
  {
   "cell_type": "code",
   "execution_count": 21,
   "id": "a3c9613c-7042-46bf-a4d9-3ef556b165dc",
   "metadata": {},
   "outputs": [],
   "source": [
    "from collections import deque, defaultdict"
   ]
  },
  {
   "cell_type": "code",
   "execution_count": 10,
   "id": "f9fcfc30-18df-444c-921f-ee022ba4b45f",
   "metadata": {},
   "outputs": [],
   "source": [
    "graph = {'a': ['c', 'b'], \n",
    "         'b': ['d'], \n",
    "         'c': ['e'],\n",
    "         'd': ['f'], \n",
    "         'e': [],\n",
    "         'f': []}"
   ]
  },
  {
   "cell_type": "code",
   "execution_count": 11,
   "id": "5acb2867-f83e-49c1-a1a5-bd58f48ab334",
   "metadata": {},
   "outputs": [
    {
     "name": "stdout",
     "output_type": "stream",
     "text": [
      "a\n",
      "b\n",
      "d\n",
      "f\n",
      "c\n",
      "e\n"
     ]
    }
   ],
   "source": [
    "def depthFirstPrint(graph, source):\n",
    "    stack = [source]\n",
    "    while len(stack) > 0: \n",
    "        curr = stack.pop()\n",
    "        print(curr)\n",
    "        for neighbor in graph[curr]:\n",
    "            stack.append(neighbor)\n",
    "\n",
    "depthFirstPrint(graph, 'a') # abdfce"
   ]
  },
  {
   "cell_type": "code",
   "execution_count": 12,
   "id": "3ecee35b-f032-4844-8b47-29804d6505d3",
   "metadata": {},
   "outputs": [
    {
     "name": "stdout",
     "output_type": "stream",
     "text": [
      "a\n",
      "c\n",
      "e\n",
      "b\n",
      "d\n",
      "f\n"
     ]
    }
   ],
   "source": [
    "def depthFirstPrintRecursive(graph, source):\n",
    "    print(source)\n",
    "    for neighbor in graph[source]:\n",
    "        depthFirstPrintRecursive(graph, neighbor)\n",
    "\n",
    "depthFirstPrintRecursive(graph, 'a')"
   ]
  },
  {
   "cell_type": "code",
   "execution_count": 13,
   "id": "632e6ac5-fab7-4d2e-b64e-06fd8aad2c01",
   "metadata": {},
   "outputs": [
    {
     "name": "stdout",
     "output_type": "stream",
     "text": [
      "a\n",
      "c\n",
      "b\n",
      "e\n",
      "d\n",
      "f\n"
     ]
    }
   ],
   "source": [
    "def breadhtFirstPrint(graph, source):\n",
    "    queue = [source]\n",
    "    while len(queue) > 0:\n",
    "        curr = queue.pop(0)\n",
    "        print(curr)\n",
    "        for neighbor in graph[curr]:\n",
    "            queue.append(neighbor)\n",
    "\n",
    "breadhtFirstPrint(graph, 'a') # acbedf"
   ]
  },
  {
   "cell_type": "code",
   "execution_count": 14,
   "id": "280be796-90a9-4a67-a1d3-1e885ebe7ea3",
   "metadata": {},
   "outputs": [],
   "source": [
    "def hasPathDFT(graph, src, dst):\n",
    "    '''For acyclic graphs, DFT'''\n",
    "    if src == dst:\n",
    "        return True\n",
    "    for neighbor in graph[src]:\n",
    "        if hasPathDFT(graph, neighbor, dst) == True:\n",
    "            return True\n",
    "    return False\n",
    "\n",
    "def hasPathBFT(graph, src, dst):\n",
    "    '''For acyclic graphs, BFT'''\n",
    "    queue = [src]\n",
    "    while len(queue) > 0:\n",
    "        current = queue.pop(0)\n",
    "        if current == dst:\n",
    "            return True\n",
    "        for neighbor in graph[current]:\n",
    "            queue.append(neighbor)\n",
    "    return False"
   ]
  },
  {
   "cell_type": "code",
   "execution_count": 15,
   "id": "d5ebf17b-d2e3-4af4-a661-0cd683b8e98f",
   "metadata": {},
   "outputs": [
    {
     "data": {
      "text/plain": [
       "True"
      ]
     },
     "execution_count": 15,
     "metadata": {},
     "output_type": "execute_result"
    }
   ],
   "source": [
    "hasPathDFT(graph, 'a', 'f')"
   ]
  },
  {
   "cell_type": "code",
   "execution_count": 16,
   "id": "6aa3d676-d2f0-4a54-96ca-4944d93c64cb",
   "metadata": {},
   "outputs": [
    {
     "data": {
      "text/plain": [
       "True"
      ]
     },
     "execution_count": 16,
     "metadata": {},
     "output_type": "execute_result"
    }
   ],
   "source": [
    "hasPathBFT(graph, 'a', 'f')"
   ]
  },
  {
   "cell_type": "markdown",
   "id": "ffe313df-fdb9-4979-b813-8cfc6aebd581",
   "metadata": {},
   "source": [
    "### Undirected Graph"
   ]
  },
  {
   "cell_type": "code",
   "execution_count": 17,
   "id": "a84b9ed4-9f73-491f-8c07-009bf5bb2443",
   "metadata": {},
   "outputs": [
    {
     "data": {
      "text/plain": [
       "{'l': ['k'],\n",
       " 'm': ['k'],\n",
       " 'n': ['o'],\n",
       " 'k': ['i', 'm', 'l'],\n",
       " 'i': ['j', 'k'],\n",
       " 'j': ['i'],\n",
       " 'o': ['n']}"
      ]
     },
     "execution_count": 17,
     "metadata": {},
     "output_type": "execute_result"
    }
   ],
   "source": [
    "edges = [['i', 'j'],\n",
    "         ['k', 'i'],\n",
    "         ['m', 'k'], \n",
    "         ['k', 'l'], \n",
    "         ['o', 'n']]\n",
    "\n",
    "\n",
    "def convert_undirected(edges):\n",
    "    '''converting undirected edges into adjacency list'''\n",
    "    unique_nodes = []\n",
    "    for i in edges:\n",
    "        unique_nodes.extend(i)\n",
    "    unique_nodes = set(unique_nodes)\n",
    "\n",
    "    graph = {i: [] for i in unique_nodes}\n",
    "    \n",
    "    for i in edges:\n",
    "        graph[i[0]].append(i[1])\n",
    "        graph[i[1]].append(i[0])\n",
    "\n",
    "    return graph\n",
    "\n",
    "convert_undirected(edges)"
   ]
  },
  {
   "cell_type": "code",
   "execution_count": 22,
   "id": "16d2d362-f23a-4a72-8fae-fb8a0b54c90f",
   "metadata": {},
   "outputs": [
    {
     "data": {
      "text/plain": [
       "defaultdict(list,\n",
       "            {'i': ['j', 'k'],\n",
       "             'j': ['i'],\n",
       "             'k': ['i', 'm', 'l'],\n",
       "             'm': ['k'],\n",
       "             'l': ['k'],\n",
       "             'o': ['n'],\n",
       "             'n': ['o']})"
      ]
     },
     "execution_count": 22,
     "metadata": {},
     "output_type": "execute_result"
    }
   ],
   "source": [
    "def convert_undirected(edges):\n",
    "    '''converting undirected edges into adjacency list'''\n",
    "    graph = defaultdict(list)\n",
    "    \n",
    "    for i in edges:\n",
    "        graph[i[0]].append(i[1])\n",
    "        graph[i[1]].append(i[0])\n",
    "\n",
    "    return graph\n",
    "\n",
    "convert_undirected(edges)"
   ]
  },
  {
   "cell_type": "code",
   "execution_count": 23,
   "id": "d2a24418-686d-41c8-abb3-6eb1c9fb963e",
   "metadata": {},
   "outputs": [
    {
     "data": {
      "text/plain": [
       "{'i': ['j', 'k'],\n",
       " 'j': ['i'],\n",
       " 'k': ['i', 'm', 'l'],\n",
       " 'm': ['k'],\n",
       " 'l': ['k'],\n",
       " 'o': ['n'],\n",
       " 'n': ['o']}"
      ]
     },
     "execution_count": 23,
     "metadata": {},
     "output_type": "execute_result"
    }
   ],
   "source": [
    "def convert_undirected(edges):\n",
    "    '''converting undirected edges into adjacency list'''\n",
    "\n",
    "    graph = {}\n",
    "    \n",
    "    for i in edges:\n",
    "        graph.setdefault(i[0], []).append(i[1])\n",
    "        graph.setdefault(i[1], []).append(i[0])\n",
    "\n",
    "    return graph\n",
    "\n",
    "convert_undirected(edges)"
   ]
  },
  {
   "cell_type": "code",
   "execution_count": 24,
   "id": "24efcc27-98eb-44e6-80a9-cdfdf0f0c5cf",
   "metadata": {},
   "outputs": [],
   "source": [
    "def hasPathCyclic(graph, src, dst, visited):\n",
    "    '''Has path implemenation for cyclic graphs'''\n",
    "    if src == dst:\n",
    "        return True\n",
    "    if src in visited:\n",
    "        return False\n",
    "    visited.add(src)\n",
    "    for neighbor in graph[src]:\n",
    "        if hasPathCyclic(graph, neighbor, dst, visited) == True:\n",
    "            return True\n",
    "    return False"
   ]
  },
  {
   "cell_type": "code",
   "execution_count": 25,
   "id": "c35509b2-3820-4414-ae25-8ccefb2dfba8",
   "metadata": {},
   "outputs": [
    {
     "data": {
      "text/plain": [
       "False"
      ]
     },
     "execution_count": 25,
     "metadata": {},
     "output_type": "execute_result"
    }
   ],
   "source": [
    "def undirectedPathDFT(edges, nodeA, nodeB):\n",
    "    graph = convert_undirected(edges)\n",
    "    return hasPathCyclic(graph, src=nodeA, dst=nodeB, visited=set())\n",
    "\n",
    "undirectedPathDFT(edges, 'o', 'l')"
   ]
  },
  {
   "cell_type": "markdown",
   "id": "1965894c-b352-483a-82c4-855a1745d934",
   "metadata": {},
   "source": [
    "### Connected Components Count"
   ]
  },
  {
   "cell_type": "code",
   "execution_count": 26,
   "id": "33bbfafb-eb6c-4eca-8e61-a9b05a4fb15a",
   "metadata": {},
   "outputs": [],
   "source": [
    "def connectedComponentsCount(graph): \n",
    "    visited = set()\n",
    "    count = 0\n",
    "    for node in graph:  \n",
    "        if explore(graph, node, visited):\n",
    "            count += 1\n",
    "\n",
    "    return count\n",
    "\n",
    "def explore(graph, current, visited):\n",
    "    '''Explore all the neighbors of current node'''\n",
    "    # no cycles\n",
    "    if current in visited:\n",
    "        return False\n",
    "    visited.add(current)\n",
    "    \n",
    "    for neighbor in graph[current]: \n",
    "        explore(graph, neighbor, visited)\n",
    "\n",
    "    return True"
   ]
  },
  {
   "cell_type": "code",
   "execution_count": 27,
   "id": "72b0cc76-3c69-45fe-92f4-064f68875930",
   "metadata": {},
   "outputs": [
    {
     "data": {
      "text/plain": [
       "2"
      ]
     },
     "execution_count": 27,
     "metadata": {},
     "output_type": "execute_result"
    }
   ],
   "source": [
    "connectedComponentsCount(convert_undirected(edges))"
   ]
  },
  {
   "cell_type": "markdown",
   "id": "a276123b-11bc-481d-84c5-edba533ce522",
   "metadata": {},
   "source": [
    "### Largest Component"
   ]
  },
  {
   "cell_type": "code",
   "execution_count": 28,
   "id": "7d7a40c0-ffd8-4847-a95c-6921da4bdc9f",
   "metadata": {},
   "outputs": [],
   "source": [
    "graph2 = {0: [8,1,5],\n",
    "          1: [0],\n",
    "          5: [0,8], \n",
    "          8: [0,5],\n",
    "          2: [3,4],\n",
    "          3: [2,4],\n",
    "          4: [3,2]}"
   ]
  },
  {
   "cell_type": "code",
   "execution_count": 29,
   "id": "ac6cf765-f93c-4e4e-b872-67a9cc49815a",
   "metadata": {},
   "outputs": [
    {
     "data": {
      "text/plain": [
       "4"
      ]
     },
     "execution_count": 29,
     "metadata": {},
     "output_type": "execute_result"
    }
   ],
   "source": [
    "def largestComponent(graph):\n",
    "    visited = set()\n",
    "    largest = 0\n",
    "    for node in graph: \n",
    "        size = exploreSize(graph, node, visited)\n",
    "        if size > largest:\n",
    "            largest = size\n",
    "    return largest\n",
    "\n",
    "def exploreSize(graph, node, visited):\n",
    "    if node in visited:\n",
    "        return 0\n",
    "    visited.add(node)\n",
    "    size = 1\n",
    "    for neighbor in graph[node]:\n",
    "        size += exploreSize(graph, neighbor, visited)\n",
    "    return size\n",
    "\n",
    "largestComponent(graph2)"
   ]
  },
  {
   "cell_type": "markdown",
   "id": "3131c0e7-7fb8-475f-b02e-9c7ac46eafbd",
   "metadata": {},
   "source": [
    "### Shortest Path"
   ]
  },
  {
   "cell_type": "code",
   "execution_count": 30,
   "id": "11d9eed6-a71d-4071-956b-c87a92b7936f",
   "metadata": {},
   "outputs": [
    {
     "data": {
      "text/plain": [
       "{'w': ['x', 'v'],\n",
       " 'x': ['w', 'y'],\n",
       " 'y': ['x', 'z'],\n",
       " 'z': ['y', 'v'],\n",
       " 'v': ['z', 'w']}"
      ]
     },
     "execution_count": 30,
     "metadata": {},
     "output_type": "execute_result"
    }
   ],
   "source": [
    "edges2 = [['w', 'x'],\n",
    "          ['x', 'y'],\n",
    "          ['z', 'y'],\n",
    "          ['z', 'v'], \n",
    "          ['w', 'v']]\n",
    "convert_undirected(edges2)"
   ]
  },
  {
   "cell_type": "code",
   "execution_count": 31,
   "id": "8fd8ab79-1391-473f-8907-d70456abbbb3",
   "metadata": {},
   "outputs": [
    {
     "data": {
      "text/plain": [
       "2"
      ]
     },
     "execution_count": 31,
     "metadata": {},
     "output_type": "execute_result"
    }
   ],
   "source": [
    "def shortestPath(edges, nodeA, nodeB):\n",
    "    graph = convert_undirected(edges)\n",
    "    visited = set([nodeA])\n",
    "    queue = [(nodeA, 0)]\n",
    "    \n",
    "    while len(queue) > 0:\n",
    "        node, distance = queue.pop(0)\n",
    "        if node == nodeB:\n",
    "            return distance\n",
    "        for neighbor in graph[node]:\n",
    "            if neighbor not in visited:\n",
    "                visited.add(neighbor)\n",
    "                queue.append((neighbor, distance+1))\n",
    "    return -1\n",
    "\n",
    "shortestPath(edges2, 'w', 'z')"
   ]
  },
  {
   "cell_type": "markdown",
   "id": "0f7fd434-182f-498a-b6af-e910e98b2752",
   "metadata": {},
   "source": [
    "### Island Count"
   ]
  },
  {
   "cell_type": "code",
   "execution_count": 32,
   "id": "58b23439-848a-4979-bdb1-5cd53cdff3f7",
   "metadata": {},
   "outputs": [],
   "source": [
    "const_grid = [[\"W\", \"L\", \"W\", \"W\", \"W\"],\n",
    "               [\"W\", \"L\", \"W\", \"W\", \"W\"], \n",
    "               [\"W\", \"W\", \"W\", \"L\", \"W\"], \n",
    "               [\"W\", \"W\", \"L\", \"L\", \"W\"],  \n",
    "               [\"L\", \"W\", \"W\", \"L\", \"L\"],\n",
    "               [\"L\", \"L\", \"W\", \"W\", \"W\"]] # 3 islands"
   ]
  },
  {
   "cell_type": "code",
   "execution_count": 37,
   "id": "1d66ec74-decf-4d6f-9442-305745c979f9",
   "metadata": {},
   "outputs": [],
   "source": [
    "def islandCount(grid):\n",
    "    visited = set()\n",
    "    count = 0\n",
    "    for r in range(len(grid)):\n",
    "        for c in range(len(grid[0])):\n",
    "            if explore(grid, r, c, visited):\n",
    "                count += 1\n",
    "    return count\n",
    "\n",
    "def explore(grid, r, c, visited):\n",
    "    rowInbounds = 0 <= r and r < len(grid)\n",
    "    colInbounds = 0 <= c and c < len(grid[0])\n",
    "    # checking if we are in the grid\n",
    "    if not rowInbounds or not colInbounds:\n",
    "        return False\n",
    "\n",
    "    # checking land or water\n",
    "    if grid[r][c] == \"W\":\n",
    "        return False\n",
    "    \n",
    "    pos = str(r) + ',' + str(c)\n",
    "    if pos in visited: \n",
    "        return False\n",
    "    visited.add(pos)\n",
    "\n",
    "    explore(grid, r-1,  c,    visited)\n",
    "    explore(grid, r+1,  c,    visited)\n",
    "    explore(grid, r,    c-1,  visited)\n",
    "    explore(grid, r,    c+1,  visited)\n",
    "\n",
    "    return True"
   ]
  },
  {
   "cell_type": "code",
   "execution_count": 38,
   "id": "d7a9613c-5027-477f-9235-0d65a5fb02a2",
   "metadata": {},
   "outputs": [
    {
     "data": {
      "text/plain": [
       "3"
      ]
     },
     "execution_count": 38,
     "metadata": {},
     "output_type": "execute_result"
    }
   ],
   "source": [
    "islandCount(const_grid)"
   ]
  },
  {
   "cell_type": "markdown",
   "id": "0faff74d-d7d4-4df0-9b3b-69edec831bca",
   "metadata": {},
   "source": [
    "### Dijkstra\n",
    "\n",
    "Dijkstra's algorithm is used to find the shortest path from a source node to all other nodes in a weighted graph where all edge weights are non-negative."
   ]
  },
  {
   "cell_type": "code",
   "execution_count": 41,
   "id": "8467d3bf-8e3a-452d-86ae-8e03bcba6bbb",
   "metadata": {},
   "outputs": [],
   "source": [
    "import heapq"
   ]
  },
  {
   "cell_type": "code",
   "execution_count": 42,
   "id": "89133d2f-07d3-4585-bfd6-06fdb4e307b8",
   "metadata": {},
   "outputs": [],
   "source": [
    "def dijkstra(graph, start):\n",
    "    # Initialize the priority queue\n",
    "    priority_queue = []\n",
    "    heapq.heappush(priority_queue, (0, start))  # (distance, node)\n",
    "    \n",
    "    # Initialize distances dictionary (default to infinity for all nodes except start)\n",
    "    distances = {node: float('infinity') for node in graph}\n",
    "    distances[start] = 0\n",
    "    \n",
    "    # To keep track of visited nodes\n",
    "    visited = set()\n",
    "    \n",
    "    while priority_queue:\n",
    "        # Get the node with the smallest distance (min-heap)\n",
    "        current_distance, current_node = heapq.heappop(priority_queue)\n",
    "        \n",
    "        # Skip if we've already visited this node\n",
    "        if current_node in visited:\n",
    "            continue\n",
    "        \n",
    "        # Mark the node as visited\n",
    "        visited.add(current_node)\n",
    "        \n",
    "        # Process all neighbors of the current node\n",
    "        for neighbor, weight in graph[current_node].items():\n",
    "            distance = current_distance + weight\n",
    "            \n",
    "            # If found a shorter path, update the distance and push to the priority queue\n",
    "            if distance < distances[neighbor]:\n",
    "                distances[neighbor] = distance\n",
    "                heapq.heappush(priority_queue, (distance, neighbor))\n",
    "    \n",
    "    return distances"
   ]
  },
  {
   "cell_type": "code",
   "execution_count": 43,
   "id": "aed980e8-acbb-4329-859a-b0d94808f401",
   "metadata": {},
   "outputs": [
    {
     "data": {
      "text/plain": [
       "{'A': 0, 'B': 1, 'C': 3, 'D': 4}"
      ]
     },
     "execution_count": 43,
     "metadata": {},
     "output_type": "execute_result"
    }
   ],
   "source": [
    "graph = {\n",
    "    'A': {'B': 1, 'C': 4},\n",
    "    'B': {'A': 1, 'C': 2, 'D': 5},\n",
    "    'C': {'A': 4, 'B': 2, 'D': 1},\n",
    "    'D': {'B': 5, 'C': 1}\n",
    "}\n",
    "\n",
    "shortest_paths = dijkstra(graph, 'A')\n",
    "shortest_paths"
   ]
  },
  {
   "cell_type": "markdown",
   "id": "b2dc2e25-6212-47ea-8df9-4920ab3a059c",
   "metadata": {},
   "source": [
    "### Minimum Island Count"
   ]
  },
  {
   "cell_type": "code",
   "execution_count": 55,
   "id": "16f97d80-9663-4ff5-8e52-d9d0b328d8ca",
   "metadata": {},
   "outputs": [],
   "source": [
    "const_grid = [[\"W\", \"L\", \"W\", \"W\", \"L\", \"W\"],\n",
    "              [\"L\", \"L\", \"W\", \"W\", \"L\", \"W\"], \n",
    "              [\"W\", \"L\", \"W\", \"W\", \"W\", \"W\"], \n",
    "              [\"W\", \"W\", \"W\", \"L\", \"L\", \"W\"],  \n",
    "              [\"W\", \"W\", \"W\", \"L\", \"L\", \"W\"],\n",
    "              [\"W\", \"W\", \"W\", \"L\", \"W\", \"W\"]]"
   ]
  },
  {
   "cell_type": "code",
   "execution_count": 62,
   "id": "fd889ceb-6cad-4f30-adbd-2c285bc071ff",
   "metadata": {},
   "outputs": [],
   "source": [
    "def minimumIsland(grid):\n",
    "    visited = set()\n",
    "    min_size = float('inf')\n",
    "    for r in range(len(grid)):\n",
    "        for c in range(len(grid[0])):\n",
    "            size = exploreSize(grid, r, c, visited)\n",
    "            if size < min_size and size > 0:\n",
    "                min_size = size\n",
    "    return min_size\n",
    "\n",
    "\n",
    "def exploreSize(grid, r, c, visited):\n",
    "    rowInbounds = 0 <= r and r < len(grid)\n",
    "    colInbounds = 0 <= c and c < len(grid[0])\n",
    "    if not rowInbounds or not colInbounds:\n",
    "        return 0\n",
    "    if grid[r][c] == 'W':\n",
    "        return 0\n",
    "        \n",
    "    pos = str(r) + ',' + str(c)\n",
    "    if pos in visited: \n",
    "        return 0\n",
    "    visited.add(pos)\n",
    "\n",
    "    size = 1\n",
    "    size += exploreSize(grid, r-1,  c,    visited)\n",
    "    size += exploreSize(grid, r+1,  c,    visited)\n",
    "    size += exploreSize(grid, r,    c-1,  visited)\n",
    "    size += exploreSize(grid, r,    c+1,  visited)\n",
    "\n",
    "    return size"
   ]
  },
  {
   "cell_type": "code",
   "execution_count": 63,
   "id": "f52d719b-8de9-420c-88cc-b13b9d0919f7",
   "metadata": {},
   "outputs": [
    {
     "data": {
      "text/plain": [
       "2"
      ]
     },
     "execution_count": 63,
     "metadata": {},
     "output_type": "execute_result"
    }
   ],
   "source": [
    "minimumIsland(const_grid)"
   ]
  },
  {
   "cell_type": "code",
   "execution_count": null,
   "id": "a02a3bc3-6b0e-4447-bda5-b65815840d66",
   "metadata": {},
   "outputs": [],
   "source": []
  },
  {
   "cell_type": "code",
   "execution_count": null,
   "id": "8e4cf2b7-04cf-4a8b-a08b-bd7df6c2d1bb",
   "metadata": {},
   "outputs": [],
   "source": []
  },
  {
   "cell_type": "code",
   "execution_count": null,
   "id": "6bc01a0d-f1d3-4299-8212-36942a030ed1",
   "metadata": {},
   "outputs": [],
   "source": []
  },
  {
   "cell_type": "code",
   "execution_count": null,
   "id": "d4d996bc-cef9-4801-9200-450c1c9af6d0",
   "metadata": {},
   "outputs": [],
   "source": []
  }
 ],
 "metadata": {
  "kernelspec": {
   "display_name": "Python 3 (ipykernel)",
   "language": "python",
   "name": "python3"
  },
  "language_info": {
   "codemirror_mode": {
    "name": "ipython",
    "version": 3
   },
   "file_extension": ".py",
   "mimetype": "text/x-python",
   "name": "python",
   "nbconvert_exporter": "python",
   "pygments_lexer": "ipython3",
   "version": "3.12.3"
  }
 },
 "nbformat": 4,
 "nbformat_minor": 5
}
